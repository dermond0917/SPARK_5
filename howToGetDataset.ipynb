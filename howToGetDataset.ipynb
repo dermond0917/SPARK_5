{
  "nbformat": 4,
  "nbformat_minor": 0,
  "metadata": {
    "colab": {
      "name": "howToGetDataset.ipynb",
      "version": "0.3.2",
      "provenance": [],
      "collapsed_sections": [],
      "include_colab_link": true
    },
    "kernelspec": {
      "name": "python3",
      "display_name": "Python 3"
    },
    "accelerator": "GPU"
  },
  "cells": [
    {
      "cell_type": "markdown",
      "metadata": {
        "id": "view-in-github",
        "colab_type": "text"
      },
      "source": [
        "<a href=\"https://colab.research.google.com/github/dermond0917/SPARK_5/blob/master/howToGetDataset.ipynb\" target=\"_parent\"><img src=\"https://colab.research.google.com/assets/colab-badge.svg\" alt=\"Open In Colab\"/></a>"
      ]
    },
    {
      "metadata": {
        "id": "pYQNSyDf79-D",
        "colab_type": "code",
        "colab": {}
      },
      "cell_type": "code",
      "source": [
        "!mkdir dataset"
      ],
      "execution_count": 0,
      "outputs": []
    },
    {
      "metadata": {
        "id": "kOcF_K8S8QM9",
        "colab_type": "code",
        "colab": {}
      },
      "cell_type": "code",
      "source": [
        "!cd dataset\n",
        "!mkdir 0_real_image\n",
        "!mkdir 1_gan_generated_image"
      ],
      "execution_count": 0,
      "outputs": []
    },
    {
      "metadata": {
        "id": "V_3uahb88ZcN",
        "colab_type": "code",
        "colab": {}
      },
      "cell_type": "code",
      "source": [
        "rmdir 1_gan_generated_image"
      ],
      "execution_count": 0,
      "outputs": []
    },
    {
      "metadata": {
        "id": "hE3qJ38ifbwI",
        "colab_type": "code",
        "colab": {
          "base_uri": "https://localhost:8080/",
          "height": 34
        },
        "outputId": "c7fd65cb-a8b9-4175-bced-b5fcfb573c64"
      },
      "cell_type": "code",
      "source": [
        "cd dataset"
      ],
      "execution_count": 5,
      "outputs": [
        {
          "output_type": "stream",
          "text": [
            "/content/dataset\n"
          ],
          "name": "stdout"
        }
      ]
    },
    {
      "metadata": {
        "id": "BSkJ0vUEfiuj",
        "colab_type": "code",
        "colab": {}
      },
      "cell_type": "code",
      "source": [
        "!mkdir 0_real_image\n",
        "!mkdir 1_gan_generated_image"
      ],
      "execution_count": 0,
      "outputs": []
    },
    {
      "metadata": {
        "id": "VE5MG_wM1afz",
        "colab_type": "code",
        "colab": {
          "base_uri": "https://localhost:8080/",
          "height": 34
        },
        "outputId": "88cfedfe-c940-4198-de62-2e9528ff9f2c"
      },
      "cell_type": "code",
      "source": [
        "ls"
      ],
      "execution_count": 1,
      "outputs": [
        {
          "output_type": "stream",
          "text": [
            "\u001b[0m\u001b[01;34mdataset\u001b[0m/  \u001b[01;34msample_data\u001b[0m/\n"
          ],
          "name": "stdout"
        }
      ]
    },
    {
      "metadata": {
        "id": "vbG4uOSn1upm",
        "colab_type": "code",
        "colab": {
          "base_uri": "https://localhost:8080/",
          "height": 34
        },
        "outputId": "d1f7173f-2389-4ffa-bc95-57eafd6d737e"
      },
      "cell_type": "code",
      "source": [
        "cd dataset"
      ],
      "execution_count": 2,
      "outputs": [
        {
          "output_type": "stream",
          "text": [
            "/content/dataset\n"
          ],
          "name": "stdout"
        }
      ]
    },
    {
      "metadata": {
        "id": "y3I9W0WR2JiY",
        "colab_type": "code",
        "colab": {
          "base_uri": "https://localhost:8080/",
          "height": 34
        },
        "outputId": "c9876c9b-d84b-4b0d-de47-34680e3ea641"
      },
      "cell_type": "code",
      "source": [
        "ls"
      ],
      "execution_count": 3,
      "outputs": [
        {
          "output_type": "stream",
          "text": [
            "\u001b[0m\u001b[01;34m0_real_image\u001b[0m/  \u001b[01;34m1_gan_generated_image\u001b[0m/\n"
          ],
          "name": "stdout"
        }
      ]
    },
    {
      "metadata": {
        "id": "kG50jpa92K3B",
        "colab_type": "code",
        "colab": {
          "base_uri": "https://localhost:8080/",
          "height": 34
        },
        "outputId": "06adabd7-79c1-4fb5-ffdc-d4baa2a562fe"
      },
      "cell_type": "code",
      "source": [
        "cd 0_real_image"
      ],
      "execution_count": 4,
      "outputs": [
        {
          "output_type": "stream",
          "text": [
            "/content/dataset/0_real_image\n"
          ],
          "name": "stdout"
        }
      ]
    },
    {
      "metadata": {
        "id": "WP0Mfgvf2N83",
        "colab_type": "code",
        "colab": {
          "base_uri": "https://localhost:8080/",
          "height": 34
        },
        "outputId": "af6e574d-babf-4cca-c2ce-5781cc673396"
      },
      "cell_type": "code",
      "source": [
        "ls"
      ],
      "execution_count": 5,
      "outputs": [
        {
          "output_type": "stream",
          "text": [
            "1-images.jpg  2-images.jpg  4-images.jpg\n"
          ],
          "name": "stdout"
        }
      ]
    },
    {
      "metadata": {
        "id": "ChaaCDmK2O2f",
        "colab_type": "code",
        "colab": {
          "base_uri": "https://localhost:8080/",
          "height": 34
        },
        "outputId": "4f427fcd-28cc-4f96-9fa0-b79257667347"
      },
      "cell_type": "code",
      "source": [
        "cd .."
      ],
      "execution_count": 6,
      "outputs": [
        {
          "output_type": "stream",
          "text": [
            "/content/dataset\n"
          ],
          "name": "stdout"
        }
      ]
    },
    {
      "metadata": {
        "id": "tfjtACEw2QRw",
        "colab_type": "code",
        "colab": {
          "base_uri": "https://localhost:8080/",
          "height": 34
        },
        "outputId": "2f3f8eab-df7e-4fce-b3f1-0dbb162b26e0"
      },
      "cell_type": "code",
      "source": [
        "cd .."
      ],
      "execution_count": 7,
      "outputs": [
        {
          "output_type": "stream",
          "text": [
            "/content\n"
          ],
          "name": "stdout"
        }
      ]
    },
    {
      "metadata": {
        "id": "ucI7cDwl2rQa",
        "colab_type": "code",
        "colab": {}
      },
      "cell_type": "code",
      "source": [
        "import numpy as np\n",
        "import os\n",
        "import cv2\n",
        "from numpy import array"
      ],
      "execution_count": 0,
      "outputs": []
    },
    {
      "metadata": {
        "id": "QELtH16u2rh1",
        "colab_type": "code",
        "colab": {
          "base_uri": "https://localhost:8080/",
          "height": 34
        },
        "outputId": "86cec666-df41-4fdd-b1b0-e1f23563971e"
      },
      "cell_type": "code",
      "source": [
        "# x_train = data / y_train = label\n",
        "x_train = []\n",
        "y_train = []\n",
        "\n",
        "TRAIN_DIR = 'dataset/'\n",
        "train_folder_list = array(os.listdir(TRAIN_DIR))\n",
        "train_folder_list"
      ],
      "execution_count": 9,
      "outputs": [
        {
          "output_type": "execute_result",
          "data": {
            "text/plain": [
              "array(['0_real_image', '1_gan_generated_image'], dtype='<U21')"
            ]
          },
          "metadata": {
            "tags": []
          },
          "execution_count": 9
        }
      ]
    },
    {
      "metadata": {
        "id": "haH-FcFX2rp3",
        "colab_type": "code",
        "colab": {}
      },
      "cell_type": "code",
      "source": [
        ""
      ],
      "execution_count": 0,
      "outputs": []
    },
    {
      "metadata": {
        "id": "DosImtQC2rMv",
        "colab_type": "code",
        "colab": {
          "base_uri": "https://localhost:8080/",
          "height": 50
        },
        "outputId": "7f178692-9a11-47e1-a821-8945cdd5b56d"
      },
      "cell_type": "code",
      "source": [
        "for index in range(len(train_folder_list)):\n",
        "  path = os.path.join(TRAIN_DIR, train_folder_list[index])\n",
        "  path += '/'\n",
        "  img_list = os.listdir(path)\n",
        "  print(img_list)"
      ],
      "execution_count": 13,
      "outputs": [
        {
          "output_type": "stream",
          "text": [
            "['2-images.jpg', '4-images.jpg', '1-images.jpg']\n",
            "['3-images.jpg']\n"
          ],
          "name": "stdout"
        }
      ]
    },
    {
      "metadata": {
        "id": "kLhtX9cR3OrP",
        "colab_type": "code",
        "colab": {
          "base_uri": "https://localhost:8080/",
          "height": 151
        },
        "outputId": "43a29e78-263c-484c-de92-f6a627c9d774"
      },
      "cell_type": "code",
      "source": [
        "for index in range(len(train_folder_list)):\n",
        "  path = os.path.join(TRAIN_DIR, train_folder_list[index])\n",
        "  path += '/'\n",
        "  img_list = os.listdir(path)\n",
        "  for img in img_list:\n",
        "    img_path = os.path.join(path, img) \n",
        "    img = cv2.imread(img_path, cv2.IMREAD_COLOR) \n",
        "    img = np.reshape(img, -1)\n",
        "    x_train.append(img) \n",
        "    y_train.append(index)\n",
        "x_train"
      ],
      "execution_count": 16,
      "outputs": [
        {
          "output_type": "execute_result",
          "data": {
            "text/plain": [
              "[array([ 47,  50,  58, ..., 238, 240, 240], dtype=uint8),\n",
              " array([217, 208, 204, ..., 158, 147, 167], dtype=uint8),\n",
              " array([12, 33, 48, ..., 29, 27, 27], dtype=uint8),\n",
              " array([164,  51, 119, ...,  32,  64, 107], dtype=uint8),\n",
              " array([ 47,  50,  58, ..., 238, 240, 240], dtype=uint8),\n",
              " array([217, 208, 204, ..., 158, 147, 167], dtype=uint8),\n",
              " array([12, 33, 48, ..., 29, 27, 27], dtype=uint8),\n",
              " array([164,  51, 119, ...,  32,  64, 107], dtype=uint8)]"
            ]
          },
          "metadata": {
            "tags": []
          },
          "execution_count": 16
        }
      ]
    }
  ]
}