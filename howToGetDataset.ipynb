{
  "nbformat": 4,
  "nbformat_minor": 0,
  "metadata": {
    "colab": {
      "name": "howToGetDataset.ipynb",
      "version": "0.3.2",
      "provenance": [],
      "collapsed_sections": [],
      "include_colab_link": true
    },
    "kernelspec": {
      "name": "python3",
      "display_name": "Python 3"
    },
    "accelerator": "GPU"
  },
  "cells": [
    {
      "cell_type": "markdown",
      "metadata": {
        "id": "view-in-github",
        "colab_type": "text"
      },
      "source": [
        "<a href=\"https://colab.research.google.com/github/dermond0917/SPARK_5/blob/master/howToGetDataset.ipynb\" target=\"_parent\"><img src=\"https://colab.research.google.com/assets/colab-badge.svg\" alt=\"Open In Colab\"/></a>"
      ]
    },
    {
      "metadata": {
        "id": "pYQNSyDf79-D",
        "colab_type": "code",
        "colab": {}
      },
      "cell_type": "code",
      "source": [
        "#폴더를 만든다\n",
        "!mkdir dataset"
      ],
      "execution_count": 0,
      "outputs": []
    },
    {
      "metadata": {
        "id": "kOcF_K8S8QM9",
        "colab_type": "code",
        "colab": {
          "base_uri": "https://localhost:8080/",
          "height": 34
        },
        "outputId": "f841b9ba-c3df-4d8a-87b3-3c1c5edceb5d"
      },
      "cell_type": "code",
      "source": [
        "#폴더에 들어간다.\n",
        "cd dataset"
      ],
      "execution_count": 17,
      "outputs": [
        {
          "output_type": "stream",
          "text": [
            "/content/dataset\n"
          ],
          "name": "stdout"
        }
      ]
    },
    {
      "metadata": {
        "id": "KrplRH_WCLZE",
        "colab_type": "code",
        "colab": {}
      },
      "cell_type": "code",
      "source": [
        "!mkdir 0_real_image\n",
        "!mkdir 1_gan_generated_image\n",
        "#여기서 각각 폴더에 이미지 파일을 넣어주세요."
      ],
      "execution_count": 0,
      "outputs": []
    },
    {
      "metadata": {
        "id": "V_3uahb88ZcN",
        "colab_type": "code",
        "colab": {
          "base_uri": "https://localhost:8080/",
          "height": 34
        },
        "outputId": "fd9d61eb-1576-4bd3-b030-b60e0b51b644"
      },
      "cell_type": "code",
      "source": [
        "#상위폴더로 나온다.\n",
        "cd .."
      ],
      "execution_count": 20,
      "outputs": [
        {
          "output_type": "stream",
          "text": [
            "/content\n"
          ],
          "name": "stdout"
        }
      ]
    },
    {
      "metadata": {
        "id": "hE3qJ38ifbwI",
        "colab_type": "code",
        "colab": {}
      },
      "cell_type": "code",
      "source": [
        "import numpy as np\n",
        "import os\n",
        "import cv2\n",
        "from numpy import array"
      ],
      "execution_count": 0,
      "outputs": []
    },
    {
      "metadata": {
        "id": "BSkJ0vUEfiuj",
        "colab_type": "code",
        "colab": {
          "base_uri": "https://localhost:8080/",
          "height": 34
        },
        "outputId": "58ae380b-6f3f-4479-d6ee-09d2f78ab0e5"
      },
      "cell_type": "code",
      "source": [
        "# x_train = data / y_train = label\n",
        "x_train = []\n",
        "y_train = []\n",
        "TRAIN_DIR = 'dataset/'\n",
        "train_folder_list = array(os.listdir(TRAIN_DIR))\n",
        "train_folder_list\n",
        "#이렇게 변수이름만 적은 경우, 그 변수를 출력한다고 해석하시면 됩니다."
      ],
      "execution_count": 22,
      "outputs": [
        {
          "output_type": "execute_result",
          "data": {
            "text/plain": [
              "array(['0_real_image', '1_gan_generated_image'], dtype='<U21')"
            ]
          },
          "metadata": {
            "tags": []
          },
          "execution_count": 22
        }
      ]
    },
    {
      "metadata": {
        "id": "VE5MG_wM1afz",
        "colab_type": "code",
        "colab": {
          "base_uri": "https://localhost:8080/",
          "height": 70
        },
        "outputId": "b794fe1f-2c8c-426c-8723-9159427d5e92"
      },
      "cell_type": "code",
      "source": [
        "#이 셀은 삭제해도 무관합니다. 이미지 리스트가 잘 생성되는지 확인하는 for문입니다.\n",
        "for index in range(len(train_folder_list)):\n",
        "  path = os.path.join(TRAIN_DIR, train_folder_list[index])\n",
        "  path += '/'\n",
        "  img_list = os.listdir(path)\n",
        "  print(img_list)"
      ],
      "execution_count": 23,
      "outputs": [
        {
          "output_type": "stream",
          "text": [
            "['2-images.jpg', '6-images.jpg', '9-images.jpg', '12-images.jpg', '10-images.jpg', '4-images.jpg', '5-images.jpg', '3-images.jpg', '11-images.jpg', '1-images.jpg', '8-images.jpg', '7-images.jpg']\n",
            "['100-images.jpg', '108-images.jpg', '109-images.jpg', '111-images.jpg', '110-images.jpg', '123-images.jpg', '120-images.jpg', '124-images.jpg', '112-images.jpg', '101-images.jpg', '98-images.jpg', '121-images.jpg', '96-images.jpg', '99-images.jpg', '113-images.jpg', '122-images.jpg', '97-images.jpg', '125-images.jpg']\n"
          ],
          "name": "stdout"
        }
      ]
    },
    {
      "metadata": {
        "id": "vbG4uOSn1upm",
        "colab_type": "code",
        "colab": {
          "base_uri": "https://localhost:8080/",
          "height": 70
        },
        "outputId": "cca5ce06-80c9-4725-b142-f649b9b6fa9c"
      },
      "cell_type": "code",
      "source": [
        "for index in range(len(train_folder_list)):\n",
        "  path = os.path.join(TRAIN_DIR, train_folder_list[index])\n",
        "  path += '/'\n",
        "  img_list = os.listdir(path)\n",
        "  for img in img_list:\n",
        "    img_path = os.path.join(path, img) \n",
        "    img = cv2.imread(img_path, cv2.IMREAD_COLOR) \n",
        "    img = np.reshape(img, -1)\n",
        "    x_train.append(img) \n",
        "    y_train.append(index)\n",
        "print(x_train)\n",
        "print(y_train)"
      ],
      "execution_count": 24,
      "outputs": [
        {
          "output_type": "stream",
          "text": [
            "[array([ 47,  50,  58, ..., 238, 240, 240], dtype=uint8), array([1, 1, 1, ..., 7, 9, 9], dtype=uint8), array([ 93,  37,  18, ...,  85, 130, 167], dtype=uint8), array([89, 94, 95, ..., 38, 58, 59], dtype=uint8), array([136, 105,  54, ..., 223, 230, 227], dtype=uint8), array([217, 208, 204, ..., 158, 147, 167], dtype=uint8), array([ 12,  49,  41, ...,  74,  87, 133], dtype=uint8), array([164,  51, 119, ...,  32,  64, 107], dtype=uint8), array([ 25,  85,  54, ..., 169, 181, 191], dtype=uint8), array([12, 33, 48, ..., 29, 27, 27], dtype=uint8), array([ 62,  81, 118, ..., 231, 239, 239], dtype=uint8), array([ 84,  42, 120, ...,   8,   8,   8], dtype=uint8), array([35, 44, 53, ..., 17, 17, 17], dtype=uint8), array([ 91, 117,  94, ...,   8,   9,  19], dtype=uint8), array([ 24,  19,  21, ..., 163, 170, 163], dtype=uint8), array([  0,   2,   0, ..., 188, 132, 145], dtype=uint8), array([ 27,  69, 104, ...,  82,  70,  22], dtype=uint8), array([155, 170, 166, ..., 141, 145, 140], dtype=uint8), array([114, 199, 221, ...,  64,  67,  81], dtype=uint8), array([31, 31, 25, ..., 21, 25, 20], dtype=uint8), array([ 0,  0,  6, ..., 85, 90, 89], dtype=uint8), array([  7,   7,   7, ..., 219, 215, 220], dtype=uint8), array([234, 231, 233, ...,  28,  57, 131], dtype=uint8), array([ 90, 244, 233, ...,  46,  67,  69], dtype=uint8), array([  1,   1,   1, ..., 216, 236, 237], dtype=uint8), array([215, 211, 192, ..., 240, 245, 244], dtype=uint8), array([114, 188, 152, ...,  28,  28,  28], dtype=uint8), array([ 0, 12, 24, ..., 16, 17, 15], dtype=uint8), array([24, 25, 59, ..., 47, 44, 39], dtype=uint8), array([239, 238, 234, ...,  37,  48,  52], dtype=uint8)]\n",
            "[0, 0, 0, 0, 0, 0, 0, 0, 0, 0, 0, 0, 1, 1, 1, 1, 1, 1, 1, 1, 1, 1, 1, 1, 1, 1, 1, 1, 1, 1]\n"
          ],
          "name": "stdout"
        }
      ]
    },
    {
      "metadata": {
        "id": "kLhtX9cR3OrP",
        "colab_type": "code",
        "colab": {}
      },
      "cell_type": "code",
      "source": [
        ""
      ],
      "execution_count": 0,
      "outputs": []
    }
  ]
}